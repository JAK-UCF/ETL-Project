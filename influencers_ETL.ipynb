{
 "cells": [
  {
   "cell_type": "markdown",
   "metadata": {},
   "source": [
    "# ELT Project"
   ]
  },
  {
   "cell_type": "markdown",
   "metadata": {},
   "source": [
    "## Finding Data:\n",
    "\n",
    "DATA SOURCE: https://www.kaggle.com/datasnaek/youtube-new/data <br/>\n",
    "Utilizing: <br/>\n",
    "3 csv files with Video Information (Canada, US, and Britain) <br/>\n",
    "3 json files with Category Assignment (Canada, US, and Britain) <br/>"
   ]
  },
  {
   "cell_type": "markdown",
   "metadata": {},
   "source": [
    "## Data Cleanup & Analysis\n",
    "\n",
    "Plan and document the following:\n",
    "* The sources of data that you will extract from.\n",
    "* The type of transformation needed for this data (cleaning, joining, filtering, aggregating, etc).\n",
    "* The type of final production database to load the data into (relational or non-relational).\n",
    "* The final tables or collections that will be used in the production database.\n",
    "\n",
    "You will be required to submit a final technical report with the above information and steps required to reproduce your ETL process."
   ]
  },
  {
   "cell_type": "markdown",
   "metadata": {},
   "source": [
    "## Project Report:\n",
    "\n",
    "Submit a Final Report that describes the following:\n",
    "* Extract: your original data sources and how the data was formatted (CSV, JSON, pgAdmin 4, etc).\n",
    "* Transform: what data cleaning or transformation was required.\n",
    "* Load: the final database, tables/collections, and why this was chosen.\n",
    "\n",
    "Please upload the report to Github and submit a link to Bootcampspot."
   ]
  },
  {
   "cell_type": "code",
   "execution_count": null,
   "metadata": {},
   "outputs": [],
   "source": [
    "import os\n",
    "import pandas as pd\n",
    "import json\n",
    "import requests\n",
    "\n",
    "from pandas.io.json import json_normalize\n",
    "from sqlalchemy import create_engine"
   ]
  },
  {
   "cell_type": "code",
   "execution_count": null,
   "metadata": {},
   "outputs": [],
   "source": [
    "json_CA = os.path.join(\"data\", \"CA_category_id.json\")\n",
    "category_CA_df = pd.read_json(json_CA)\n",
    "CA_df = json_normalize(category_CA_df['items'])"
   ]
  },
  {
   "cell_type": "code",
   "execution_count": null,
   "metadata": {},
   "outputs": [],
   "source": [
    "json_US = os.path.join(\"data\", \"US_category_id.json\")\n",
    "category_US_df = pd.read_json(json_US)\n",
    "US_df = json_normalize(category_US_df['items'])"
   ]
  },
  {
   "cell_type": "code",
   "execution_count": null,
   "metadata": {},
   "outputs": [],
   "source": [
    "json_MX = os.path.join(\"data\", \"MX_category_id.json\")\n",
    "category_MX_df = pd.read_json(json_MX)\n",
    "MX_df = json_normalize(category_MX_df['items'])"
   ]
  },
  {
   "cell_type": "code",
   "execution_count": null,
   "metadata": {},
   "outputs": [],
   "source": [
    "csv_GB = os.path.join(\"data\", \"GBvideos.csv\")\n",
    "GB_csv_df = pd.read_csv(csv_GB)"
   ]
  },
  {
   "cell_type": "code",
   "execution_count": null,
   "metadata": {},
   "outputs": [],
   "source": [
    "csv_US = os.path.join(\"data\", \"USvideos.csv\")\n",
    "US_csv_df = pd.read_csv(csv_US)"
   ]
  },
  {
   "cell_type": "code",
   "execution_count": null,
   "metadata": {},
   "outputs": [],
   "source": [
    "csv_CA = os.path.join(\"data\", \"CAvideos.csv\")\n",
    "CA_csv_df = pd.read_csv(csv_CA)"
   ]
  },
  {
   "cell_type": "code",
   "execution_count": null,
   "metadata": {},
   "outputs": [],
   "source": [
    "US_df.head()"
   ]
  },
  {
   "cell_type": "code",
   "execution_count": null,
   "metadata": {},
   "outputs": [],
   "source": [
    "US_csv_df.head()"
   ]
  },
  {
   "cell_type": "code",
   "execution_count": null,
   "metadata": {},
   "outputs": [],
   "source": []
  },
  {
   "cell_type": "code",
   "execution_count": null,
   "metadata": {},
   "outputs": [],
   "source": []
  },
  {
   "cell_type": "code",
   "execution_count": null,
   "metadata": {},
   "outputs": [],
   "source": []
  },
  {
   "cell_type": "code",
   "execution_count": null,
   "metadata": {},
   "outputs": [],
   "source": []
  },
  {
   "cell_type": "code",
   "execution_count": null,
   "metadata": {},
   "outputs": [],
   "source": []
  }
 ],
 "metadata": {
  "kernelspec": {
   "display_name": "Python 3",
   "language": "python",
   "name": "python3"
  },
  "language_info": {
   "codemirror_mode": {
    "name": "ipython",
    "version": 3
   },
   "file_extension": ".py",
   "mimetype": "text/x-python",
   "name": "python",
   "nbconvert_exporter": "python",
   "pygments_lexer": "ipython3",
   "version": "3.7.3"
  },
  "varInspector": {
   "cols": {
    "lenName": 16,
    "lenType": 16,
    "lenVar": 40
   },
   "kernels_config": {
    "python": {
     "delete_cmd_postfix": "",
     "delete_cmd_prefix": "del ",
     "library": "var_list.py",
     "varRefreshCmd": "print(var_dic_list())"
    },
    "r": {
     "delete_cmd_postfix": ") ",
     "delete_cmd_prefix": "rm(",
     "library": "var_list.r",
     "varRefreshCmd": "cat(var_dic_list()) "
    }
   },
   "types_to_exclude": [
    "module",
    "function",
    "builtin_function_or_method",
    "instance",
    "_Feature"
   ],
   "window_display": false
  }
 },
 "nbformat": 4,
 "nbformat_minor": 2
}
