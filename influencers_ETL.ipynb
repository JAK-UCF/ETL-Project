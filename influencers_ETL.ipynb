{
 "cells": [
  {
   "cell_type": "markdown",
   "metadata": {},
   "source": [
    "# ELT Project"
   ]
  },
  {
   "cell_type": "markdown",
   "metadata": {},
   "source": [
    "## Finding Data:\n",
    "\n",
    "DATA SOURCE: https://www.kaggle.com/datasnaek/youtube-new/data <br/>\n",
    "Utilizing: <br/>\n",
    "3 csv files with Video Information (Canada, US, and Britain) <br/>\n",
    "3 json files with Category Assignment (Canada, US, and Britain) <br/>"
   ]
  },
  {
   "cell_type": "markdown",
   "metadata": {},
   "source": [
    "## Data Cleanup & Analysis\n",
    "\n",
    "Plan and document the following:\n",
    "* The sources of data that you will extract from.\n",
    "* The type of transformation needed for this data (cleaning, joining, filtering, aggregating, etc).\n",
    "* The type of final production database to load the data into (relational or non-relational).\n",
    "* The final tables or collections that will be used in the production database.\n",
    "\n",
    "You will be required to submit a final technical report with the above information and steps required to reproduce your ETL process."
   ]
  },
  {
   "cell_type": "markdown",
   "metadata": {},
   "source": [
    "## Project Report:\n",
    "\n",
    "Submit a Final Report that describes the following:\n",
    "* Extract: your original data sources and how the data was formatted (CSV, JSON, pgAdmin 4, etc).\n",
    "* Transform: what data cleaning or transformation was required.\n",
    "* Load: the final database, tables/collections, and why this was chosen.\n",
    "\n",
    "Please upload the report to Github and submit a link to Bootcampspot."
   ]
  },
  {
   "cell_type": "code",
   "execution_count": 1,
   "metadata": {},
   "outputs": [],
   "source": [
    "import os\n",
    "import pandas as pd\n",
    "import json\n",
    "import requests\n",
    "\n",
    "# pd.options.display.max_rows = 3000\n",
    "\n",
    "from pandas.io.json import json_normalize\n",
    "from sqlalchemy import create_engine"
   ]
  },
  {
   "cell_type": "markdown",
   "metadata": {},
   "source": [
    "# EXTRACT"
   ]
  },
  {
   "cell_type": "code",
   "execution_count": 2,
   "metadata": {},
   "outputs": [],
   "source": [
    "#reading in Canada category keys\n",
    "json_CA = os.path.join(\"data\", \"CA_category_id.json\")\n",
    "category_CA_df = pd.read_json(json_CA)\n",
    "CA_category_df = json_normalize(category_CA_df['items'])\n",
    "CA_category_df.drop(['etag', 'kind', 'snippet.assignable', 'snippet.channelId'], axis=1, inplace=True)"
   ]
  },
  {
   "cell_type": "code",
   "execution_count": 3,
   "metadata": {},
   "outputs": [],
   "source": [
    "#reading in Canada csv video info\n",
    "ca_file = os.path.join(\"data\", \"CAvideos.csv\")\n",
    "CA_df = pd.read_csv(ca_file)"
   ]
  },
  {
   "cell_type": "code",
   "execution_count": 4,
   "metadata": {},
   "outputs": [],
   "source": [
    "#adding a column to define which country info came from\n",
    "CA_df.insert(1,\"country\", \"CA\") "
   ]
  },
  {
   "cell_type": "code",
   "execution_count": 5,
   "metadata": {},
   "outputs": [],
   "source": [
    "#reading in Great Britain category keys\n",
    "json_GB = os.path.join(\"data\", \"GB_category_id.json\")\n",
    "category_GB_df = pd.read_json(json_GB)\n",
    "GB_category_df = json_normalize(category_GB_df['items'])\n",
    "GB_category_df.drop(['etag', 'kind', 'snippet.assignable', 'snippet.channelId'], axis=1, inplace=True)"
   ]
  },
  {
   "cell_type": "code",
   "execution_count": 6,
   "metadata": {},
   "outputs": [],
   "source": [
    "#reading in Great Britain csv video info\n",
    "gb_file = os.path.join(\"data\", \"GBvideos.csv\")\n",
    "GB_df = pd.read_csv(gb_file)"
   ]
  },
  {
   "cell_type": "code",
   "execution_count": 7,
   "metadata": {},
   "outputs": [],
   "source": [
    "#adding a column to define which country info came from\n",
    "GB_df.insert(1,\"country\", \"GB\")"
   ]
  },
  {
   "cell_type": "code",
   "execution_count": 8,
   "metadata": {},
   "outputs": [],
   "source": [
    "#reading in United States category keys\n",
    "json_US = os.path.join(\"data\", \"US_category_id.json\")\n",
    "category_US_df = pd.read_json(json_US)\n",
    "US_category_df = json_normalize(category_US_df['items'])\n",
    "US_category_df.drop(['etag', 'kind', 'snippet.assignable', 'snippet.channelId'], axis=1, inplace=True)"
   ]
  },
  {
   "cell_type": "code",
   "execution_count": 9,
   "metadata": {},
   "outputs": [],
   "source": [
    "#reading in United States csv video info\n",
    "us_file = os.path.join(\"data\", \"USvideos.csv\")\n",
    "US_df = pd.read_csv(us_file)"
   ]
  },
  {
   "cell_type": "code",
   "execution_count": 10,
   "metadata": {},
   "outputs": [],
   "source": [
    "#adding a column to define which country info came from\n",
    "US_df.insert(1,\"country\", \"US\")"
   ]
  },
  {
   "cell_type": "markdown",
   "metadata": {},
   "source": [
    "# TRANSFORM"
   ]
  },
  {
   "cell_type": "code",
   "execution_count": 11,
   "metadata": {},
   "outputs": [
    {
     "data": {
      "text/plain": [
       "video_id                  40881\n",
       "country                   40881\n",
       "trending_date             40881\n",
       "title                     40881\n",
       "channel_title             40881\n",
       "category_id               40881\n",
       "publish_time              40881\n",
       "tags                      40881\n",
       "views                     40881\n",
       "likes                     40881\n",
       "dislikes                  40881\n",
       "comment_count             40881\n",
       "thumbnail_link            40881\n",
       "comments_disabled         40881\n",
       "ratings_disabled          40881\n",
       "video_error_or_removed    40881\n",
       "description               39585\n",
       "MaxDate                   40881\n",
       "dtype: int64"
      ]
     },
     "execution_count": 11,
     "metadata": {},
     "output_type": "execute_result"
    }
   ],
   "source": [
    "CA_df['MaxDate'] = CA_df.groupby('video_id').trending_date.transform('max')\n",
    "CA_df.count()"
   ]
  },
  {
   "cell_type": "code",
   "execution_count": 12,
   "metadata": {},
   "outputs": [
    {
     "data": {
      "text/plain": [
       "video_id                  24427\n",
       "country                   24427\n",
       "trending_date             24427\n",
       "title                     24427\n",
       "channel_title             24427\n",
       "category_id               24427\n",
       "publish_time              24427\n",
       "tags                      24427\n",
       "views                     24427\n",
       "likes                     24427\n",
       "dislikes                  24427\n",
       "comment_count             24427\n",
       "thumbnail_link            24427\n",
       "comments_disabled         24427\n",
       "ratings_disabled          24427\n",
       "video_error_or_removed    24427\n",
       "description               23465\n",
       "MaxDate                   24427\n",
       "dtype: int64"
      ]
     },
     "execution_count": 12,
     "metadata": {},
     "output_type": "execute_result"
    }
   ],
   "source": [
    "final_CA_df = CA_df[CA_df['MaxDate'] == CA_df['trending_date']]\n",
    "final_CA_df.count()"
   ]
  },
  {
   "cell_type": "code",
   "execution_count": 13,
   "metadata": {},
   "outputs": [
    {
     "data": {
      "text/plain": [
       "video_id                  38916\n",
       "country                   38916\n",
       "trending_date             38916\n",
       "title                     38916\n",
       "channel_title             38916\n",
       "category_id               38916\n",
       "publish_time              38916\n",
       "tags                      38916\n",
       "views                     38916\n",
       "likes                     38916\n",
       "dislikes                  38916\n",
       "comment_count             38916\n",
       "thumbnail_link            38916\n",
       "comments_disabled         38916\n",
       "ratings_disabled          38916\n",
       "video_error_or_removed    38916\n",
       "description               38304\n",
       "MaxDate                   38916\n",
       "dtype: int64"
      ]
     },
     "execution_count": 13,
     "metadata": {},
     "output_type": "execute_result"
    }
   ],
   "source": [
    "GB_df['MaxDate'] = GB_df.groupby('video_id').trending_date.transform('max')\n",
    "GB_df.count()"
   ]
  },
  {
   "cell_type": "code",
   "execution_count": 14,
   "metadata": {},
   "outputs": [
    {
     "data": {
      "text/plain": [
       "video_id                  3300\n",
       "country                   3300\n",
       "trending_date             3300\n",
       "title                     3300\n",
       "channel_title             3300\n",
       "category_id               3300\n",
       "publish_time              3300\n",
       "tags                      3300\n",
       "views                     3300\n",
       "likes                     3300\n",
       "dislikes                  3300\n",
       "comment_count             3300\n",
       "thumbnail_link            3300\n",
       "comments_disabled         3300\n",
       "ratings_disabled          3300\n",
       "video_error_or_removed    3300\n",
       "description               3244\n",
       "MaxDate                   3300\n",
       "dtype: int64"
      ]
     },
     "execution_count": 14,
     "metadata": {},
     "output_type": "execute_result"
    }
   ],
   "source": [
    "final_GB_df = GB_df[GB_df['MaxDate'] == GB_df['trending_date']]\n",
    "final_GB_df.count()"
   ]
  },
  {
   "cell_type": "code",
   "execution_count": 15,
   "metadata": {},
   "outputs": [
    {
     "data": {
      "text/plain": [
       "video_id                  40949\n",
       "country                   40949\n",
       "trending_date             40949\n",
       "title                     40949\n",
       "channel_title             40949\n",
       "category_id               40949\n",
       "publish_time              40949\n",
       "tags                      40949\n",
       "views                     40949\n",
       "likes                     40949\n",
       "dislikes                  40949\n",
       "comment_count             40949\n",
       "thumbnail_link            40949\n",
       "comments_disabled         40949\n",
       "ratings_disabled          40949\n",
       "video_error_or_removed    40949\n",
       "description               40379\n",
       "MaxDate                   40949\n",
       "dtype: int64"
      ]
     },
     "execution_count": 15,
     "metadata": {},
     "output_type": "execute_result"
    }
   ],
   "source": [
    "US_df['MaxDate'] = US_df.groupby('video_id').trending_date.transform('max')\n",
    "US_df.count()"
   ]
  },
  {
   "cell_type": "code",
   "execution_count": 16,
   "metadata": {},
   "outputs": [
    {
     "data": {
      "text/plain": [
       "video_id                  6354\n",
       "country                   6354\n",
       "trending_date             6354\n",
       "title                     6354\n",
       "channel_title             6354\n",
       "category_id               6354\n",
       "publish_time              6354\n",
       "tags                      6354\n",
       "views                     6354\n",
       "likes                     6354\n",
       "dislikes                  6354\n",
       "comment_count             6354\n",
       "thumbnail_link            6354\n",
       "comments_disabled         6354\n",
       "ratings_disabled          6354\n",
       "video_error_or_removed    6354\n",
       "description               6256\n",
       "MaxDate                   6354\n",
       "dtype: int64"
      ]
     },
     "execution_count": 16,
     "metadata": {},
     "output_type": "execute_result"
    }
   ],
   "source": [
    "final_US_df = US_df[US_df['MaxDate'] == US_df['trending_date']]\n",
    "final_US_df.count()"
   ]
  },
  {
   "cell_type": "code",
   "execution_count": 17,
   "metadata": {},
   "outputs": [
    {
     "data": {
      "text/plain": [
       "video_id                  34081\n",
       "country                   34081\n",
       "trending_date             34081\n",
       "title                     34081\n",
       "channel_title             34081\n",
       "category_id               34081\n",
       "publish_time              34081\n",
       "tags                      34081\n",
       "views                     34081\n",
       "likes                     34081\n",
       "dislikes                  34081\n",
       "comment_count             34081\n",
       "thumbnail_link            34081\n",
       "comments_disabled         34081\n",
       "ratings_disabled          34081\n",
       "video_error_or_removed    34081\n",
       "description               32965\n",
       "MaxDate                   34081\n",
       "dtype: int64"
      ]
     },
     "execution_count": 17,
     "metadata": {},
     "output_type": "execute_result"
    }
   ],
   "source": [
    "full_frame = pd.concat([final_CA_df, final_GB_df, final_US_df], ignore_index=True)\n",
    "full_frame.count()"
   ]
  },
  {
   "cell_type": "code",
   "execution_count": null,
   "metadata": {},
   "outputs": [],
   "source": []
  },
  {
   "cell_type": "code",
   "execution_count": null,
   "metadata": {},
   "outputs": [],
   "source": []
  },
  {
   "cell_type": "code",
   "execution_count": null,
   "metadata": {},
   "outputs": [],
   "source": []
  },
  {
   "cell_type": "code",
   "execution_count": null,
   "metadata": {},
   "outputs": [],
   "source": [
    "#drop unnecessary columns not using for project\n",
    "countries_merged.drop(['tags_x', 'comment_count_x', 'thumbnail_link_x', 'comments_disabled_x', 'ratings_disabled_x','video_error_or_removed_x', 'tags_y', 'comment_count_y', 'thumbnail_link_y', 'comments_disabled_y', 'ratings_disabled_y', 'video_error_or_removed_y',  'tags', 'comment_count',\n",
    "       'thumbnail_link', 'comments_disabled', 'ratings_disabled','video_error_or_removed','publish_time_x','publish_time_y','publish_time'] , axis=1, inplace=True)\n",
    "countries_merged.head()"
   ]
  },
  {
   "cell_type": "code",
   "execution_count": null,
   "metadata": {},
   "outputs": [],
   "source": [
    "#seeing all coulmns in left merged df\n",
    "countries_merged.columns"
   ]
  },
  {
   "cell_type": "code",
   "execution_count": null,
   "metadata": {},
   "outputs": [],
   "source": [
    "#renaming columns by countries\n",
    "#these are the coloumns to be renamed\n",
    "# 'video_id', \n",
    "# CA= 'country_x', 'trending_date_x', 'title_x','channel_title_x', 'category_id_x','views_x', 'likes_x', 'dislikes_x', 'description_x', \n",
    "# GB = 'country_y','trending_date_y', 'title_y', 'channel_title_y', 'category_id_y', 'description_y','views_y', 'likes_y', 'dislikes_y',\n",
    "# US = 'country', 'trending_date', 'title', 'channel_title', 'category_id','views', 'likes', 'dislikes','description'\n",
    "\n",
    "countries_df=countries_merged.rename(columns={\n",
    "    'country_x':'Canada','trending_date_x':'trend_date_CA','title_x':'title_CA','channel_title_x':'channel_title_CA','category_id_x':'category_id_CA','views_x':'views_CA', 'likes_x':'likes_CA', 'dislikes_x': 'dislikes_CA', 'description_x':'discriptions_CA',\n",
    "    'country_y':'Great Britain','trending_date_y':'trend_date_GB', 'title_y':'title_GB', 'channel_title_y':'channel_title_GB', 'category_id_y':'category_id_GB','views_y':'views_GB','likes_y':'likes_GB', 'dislikes_y':'dislikes_GB','description_y':'discriptions_GB',\n",
    "    'country':'United States', 'trending_date': 'tend_date_US', 'title':'title_US', 'channel_title':'channel_title_US', 'category_id':'category_id_US','views':'views_US', 'likes':'likes_US', 'dislikes':'dislikes_US','description':'description_US'})\n",
    "countries_df.head()"
   ]
  },
  {
   "cell_type": "code",
   "execution_count": null,
   "metadata": {},
   "outputs": [],
   "source": []
  },
  {
   "cell_type": "code",
   "execution_count": null,
   "metadata": {},
   "outputs": [],
   "source": []
  },
  {
   "cell_type": "code",
   "execution_count": null,
   "metadata": {},
   "outputs": [],
   "source": []
  },
  {
   "cell_type": "code",
   "execution_count": null,
   "metadata": {},
   "outputs": [],
   "source": []
  },
  {
   "cell_type": "code",
   "execution_count": null,
   "metadata": {},
   "outputs": [],
   "source": []
  },
  {
   "cell_type": "code",
   "execution_count": null,
   "metadata": {},
   "outputs": [],
   "source": []
  },
  {
   "cell_type": "code",
   "execution_count": null,
   "metadata": {},
   "outputs": [],
   "source": [
    "is_max = US_csv_df['MaxDate'] == US_csv_df['trending_date']\n",
    "US_max_date = US_csv_df[is_max]\n",
    "US_max_date.head(1)"
   ]
  },
  {
   "cell_type": "code",
   "execution_count": null,
   "metadata": {},
   "outputs": [],
   "source": [
    "US_max_date.sort_values('video_id')"
   ]
  },
  {
   "cell_type": "markdown",
   "metadata": {},
   "source": [
    "# LOAD"
   ]
  },
  {
   "cell_type": "markdown",
   "metadata": {},
   "source": [
    "FULL DATAFRAME +\n",
    "* top 5 per country\n",
    "* average rank by category overall\n",
    "* average rank by category by country\n",
    "* number of videos per category\n",
    "* number of videos per category by country\n",
    "* average number of views of top 10 overall\n",
    "* average number of views of top 10 by country\n",
    "* average number of view overall by country"
   ]
  },
  {
   "cell_type": "code",
   "execution_count": null,
   "metadata": {},
   "outputs": [],
   "source": []
  }
 ],
 "metadata": {
  "kernelspec": {
   "display_name": "Python 3",
   "language": "python",
   "name": "python3"
  },
  "language_info": {
   "codemirror_mode": {
    "name": "ipython",
    "version": 3
   },
   "file_extension": ".py",
   "mimetype": "text/x-python",
   "name": "python",
   "nbconvert_exporter": "python",
   "pygments_lexer": "ipython3",
   "version": "3.7.3"
  },
  "varInspector": {
   "cols": {
    "lenName": 16,
    "lenType": 16,
    "lenVar": 40
   },
   "kernels_config": {
    "python": {
     "delete_cmd_postfix": "",
     "delete_cmd_prefix": "del ",
     "library": "var_list.py",
     "varRefreshCmd": "print(var_dic_list())"
    },
    "r": {
     "delete_cmd_postfix": ") ",
     "delete_cmd_prefix": "rm(",
     "library": "var_list.r",
     "varRefreshCmd": "cat(var_dic_list()) "
    }
   },
   "types_to_exclude": [
    "module",
    "function",
    "builtin_function_or_method",
    "instance",
    "_Feature"
   ],
   "window_display": false
  }
 },
 "nbformat": 4,
 "nbformat_minor": 2
}
